{
  "nbformat": 4,
  "nbformat_minor": 0,
  "metadata": {
    "kernelspec": {
      "display_name": "Python 3",
      "language": "python",
      "name": "python3"
    },
    "language_info": {
      "codemirror_mode": {
        "name": "ipython",
        "version": 3
      },
      "file_extension": ".py",
      "mimetype": "text/x-python",
      "name": "python",
      "nbconvert_exporter": "python",
      "pygments_lexer": "ipython3",
      "version": "3.8.5"
    },
    "colab": {
      "name": "2.6_Bank_Credit_Data_Wrangling_and_Classification.ipynb",
      "provenance": [],
      "collapsed_sections": []
    }
  },
  "cells": [
    {
      "cell_type": "markdown",
      "metadata": {
        "id": "YfmfqwuApc2h"
      },
      "source": [
        "# This assignment provides hands-on data wrangling and classification experience\n",
        "For this assignment, you are a Machine Learning Engineer at a local bank, and your task is to analyze whether loan applicants qualify, based on their personal information.\n",
        "Tasks are:\n",
        "I. Data wrangling to perform one-hot-encoding for the data and normalization\n",
        "II. Eliminating unimportant features\n",
        "III. Performing classification to predict qualification for loan in future."
      ]
    },
    {
      "cell_type": "markdown",
      "metadata": {
        "id": "JWibA4lcO-P-"
      },
      "source": [
        "### Import the necessary modules"
      ]
    },
    {
      "cell_type": "code",
      "metadata": {
        "id": "bJf_0Ce3pc2i",
        "outputId": "360d2f1f-3b4d-4694-e949-c0618da96333",
        "colab": {
          "base_uri": "https://localhost:8080/"
        }
      },
      "source": [
        "import os\n",
        "import tensorflow as tf\n",
        "#from tensorflow.contrib.tensorboard.plugins import projector\n",
        "import numpy as np\n",
        "import pandas as pd\n",
        "from sklearn.preprocessing import StandardScaler\n",
        "from sklearn.decomposition import PCA\n",
        "import matplotlib.pyplot as plt\n",
        "import seaborn as sns\n",
        "import statsmodels.api as sm\n",
        "%matplotlib inline\n",
        "from sklearn.model_selection import train_test_split\n",
        "from sklearn.linear_model import LinearRegression\n",
        "from sklearn.feature_selection import RFE\n",
        "from sklearn.linear_model import RidgeCV, LassoCV, Ridge, Lasso\n",
        "from sklearn.ensemble import RandomForestClassifier\n",
        "from sklearn.metrics import confusion_matrix"
      ],
      "execution_count": 1,
      "outputs": [
        {
          "output_type": "stream",
          "text": [
            "/usr/local/lib/python3.6/dist-packages/statsmodels/tools/_testing.py:19: FutureWarning: pandas.util.testing is deprecated. Use the functions in the public API at pandas.testing instead.\n",
            "  import pandas.util.testing as tm\n"
          ],
          "name": "stderr"
        }
      ]
    },
    {
      "cell_type": "markdown",
      "metadata": {
        "id": "dZI-Envb6c4J"
      },
      "source": [
        "### Load the training data. Print out its shape and first few rows."
      ]
    },
    {
      "cell_type": "code",
      "metadata": {
        "id": "5njoB1HRpc2o",
        "outputId": "4c4451ab-b1dd-482d-f8e8-d3f67a064c5e",
        "colab": {
          "base_uri": "https://localhost:8080/",
          "height": 221
        }
      },
      "source": [
        "url = \"https://raw.githubusercontent.com/FourthBrain/2.-Classification/main/bank-full.csv?token=ARJV76TWTYENKFZKXB4CUYS7SIDOM\"\n",
        "df_train = pd.read_csv(url, sep=';')\n",
        "print(np.shape(df_train))\n",
        "df_train.head()\n"
      ],
      "execution_count": 2,
      "outputs": [
        {
          "output_type": "stream",
          "text": [
            "(45211, 17)\n"
          ],
          "name": "stdout"
        },
        {
          "output_type": "execute_result",
          "data": {
            "text/html": [
              "<div>\n",
              "<style scoped>\n",
              "    .dataframe tbody tr th:only-of-type {\n",
              "        vertical-align: middle;\n",
              "    }\n",
              "\n",
              "    .dataframe tbody tr th {\n",
              "        vertical-align: top;\n",
              "    }\n",
              "\n",
              "    .dataframe thead th {\n",
              "        text-align: right;\n",
              "    }\n",
              "</style>\n",
              "<table border=\"1\" class=\"dataframe\">\n",
              "  <thead>\n",
              "    <tr style=\"text-align: right;\">\n",
              "      <th></th>\n",
              "      <th>age</th>\n",
              "      <th>job</th>\n",
              "      <th>marital</th>\n",
              "      <th>education</th>\n",
              "      <th>default</th>\n",
              "      <th>balance</th>\n",
              "      <th>housing</th>\n",
              "      <th>loan</th>\n",
              "      <th>contact</th>\n",
              "      <th>day</th>\n",
              "      <th>month</th>\n",
              "      <th>duration</th>\n",
              "      <th>campaign</th>\n",
              "      <th>pdays</th>\n",
              "      <th>previous</th>\n",
              "      <th>poutcome</th>\n",
              "      <th>y</th>\n",
              "    </tr>\n",
              "  </thead>\n",
              "  <tbody>\n",
              "    <tr>\n",
              "      <th>0</th>\n",
              "      <td>58</td>\n",
              "      <td>management</td>\n",
              "      <td>married</td>\n",
              "      <td>tertiary</td>\n",
              "      <td>no</td>\n",
              "      <td>2143</td>\n",
              "      <td>yes</td>\n",
              "      <td>no</td>\n",
              "      <td>unknown</td>\n",
              "      <td>5</td>\n",
              "      <td>may</td>\n",
              "      <td>261</td>\n",
              "      <td>1</td>\n",
              "      <td>-1</td>\n",
              "      <td>0</td>\n",
              "      <td>unknown</td>\n",
              "      <td>no</td>\n",
              "    </tr>\n",
              "    <tr>\n",
              "      <th>1</th>\n",
              "      <td>44</td>\n",
              "      <td>technician</td>\n",
              "      <td>single</td>\n",
              "      <td>secondary</td>\n",
              "      <td>no</td>\n",
              "      <td>29</td>\n",
              "      <td>yes</td>\n",
              "      <td>no</td>\n",
              "      <td>unknown</td>\n",
              "      <td>5</td>\n",
              "      <td>may</td>\n",
              "      <td>151</td>\n",
              "      <td>1</td>\n",
              "      <td>-1</td>\n",
              "      <td>0</td>\n",
              "      <td>unknown</td>\n",
              "      <td>no</td>\n",
              "    </tr>\n",
              "    <tr>\n",
              "      <th>2</th>\n",
              "      <td>33</td>\n",
              "      <td>entrepreneur</td>\n",
              "      <td>married</td>\n",
              "      <td>secondary</td>\n",
              "      <td>no</td>\n",
              "      <td>2</td>\n",
              "      <td>yes</td>\n",
              "      <td>yes</td>\n",
              "      <td>unknown</td>\n",
              "      <td>5</td>\n",
              "      <td>may</td>\n",
              "      <td>76</td>\n",
              "      <td>1</td>\n",
              "      <td>-1</td>\n",
              "      <td>0</td>\n",
              "      <td>unknown</td>\n",
              "      <td>no</td>\n",
              "    </tr>\n",
              "    <tr>\n",
              "      <th>3</th>\n",
              "      <td>47</td>\n",
              "      <td>blue-collar</td>\n",
              "      <td>married</td>\n",
              "      <td>unknown</td>\n",
              "      <td>no</td>\n",
              "      <td>1506</td>\n",
              "      <td>yes</td>\n",
              "      <td>no</td>\n",
              "      <td>unknown</td>\n",
              "      <td>5</td>\n",
              "      <td>may</td>\n",
              "      <td>92</td>\n",
              "      <td>1</td>\n",
              "      <td>-1</td>\n",
              "      <td>0</td>\n",
              "      <td>unknown</td>\n",
              "      <td>no</td>\n",
              "    </tr>\n",
              "    <tr>\n",
              "      <th>4</th>\n",
              "      <td>33</td>\n",
              "      <td>unknown</td>\n",
              "      <td>single</td>\n",
              "      <td>unknown</td>\n",
              "      <td>no</td>\n",
              "      <td>1</td>\n",
              "      <td>no</td>\n",
              "      <td>no</td>\n",
              "      <td>unknown</td>\n",
              "      <td>5</td>\n",
              "      <td>may</td>\n",
              "      <td>198</td>\n",
              "      <td>1</td>\n",
              "      <td>-1</td>\n",
              "      <td>0</td>\n",
              "      <td>unknown</td>\n",
              "      <td>no</td>\n",
              "    </tr>\n",
              "  </tbody>\n",
              "</table>\n",
              "</div>"
            ],
            "text/plain": [
              "   age           job  marital  education  ... pdays  previous poutcome   y\n",
              "0   58    management  married   tertiary  ...    -1         0  unknown  no\n",
              "1   44    technician   single  secondary  ...    -1         0  unknown  no\n",
              "2   33  entrepreneur  married  secondary  ...    -1         0  unknown  no\n",
              "3   47   blue-collar  married    unknown  ...    -1         0  unknown  no\n",
              "4   33       unknown   single    unknown  ...    -1         0  unknown  no\n",
              "\n",
              "[5 rows x 17 columns]"
            ]
          },
          "metadata": {
            "tags": []
          },
          "execution_count": 2
        }
      ]
    },
    {
      "cell_type": "markdown",
      "metadata": {
        "id": "HEzNSJaWzuYr"
      },
      "source": [
        "### Exercise: Perform Exploratory Data Analysis on each feature"
      ]
    },
    {
      "cell_type": "code",
      "metadata": {
        "id": "EGYERv-Jpc2r",
        "outputId": "854a5d2b-5e3b-4f05-99bf-eccb236ad37b",
        "colab": {
          "base_uri": "https://localhost:8080/",
          "height": 705
        }
      },
      "source": [
        "### START CODE HERE ###\n",
        "# Get the info (column number and name, non-null count, and dtype) for each column in the training df\n",
        "df_train.info()\n",
        "# Get summary statistics for the training df with the describe() method\n",
        "df_train.describe()\n",
        "### END CODE HERE ###"
      ],
      "execution_count": 3,
      "outputs": [
        {
          "output_type": "stream",
          "text": [
            "<class 'pandas.core.frame.DataFrame'>\n",
            "RangeIndex: 45211 entries, 0 to 45210\n",
            "Data columns (total 17 columns):\n",
            " #   Column     Non-Null Count  Dtype \n",
            "---  ------     --------------  ----- \n",
            " 0   age        45211 non-null  int64 \n",
            " 1   job        45211 non-null  object\n",
            " 2   marital    45211 non-null  object\n",
            " 3   education  45211 non-null  object\n",
            " 4   default    45211 non-null  object\n",
            " 5   balance    45211 non-null  int64 \n",
            " 6   housing    45211 non-null  object\n",
            " 7   loan       45211 non-null  object\n",
            " 8   contact    45211 non-null  object\n",
            " 9   day        45211 non-null  int64 \n",
            " 10  month      45211 non-null  object\n",
            " 11  duration   45211 non-null  int64 \n",
            " 12  campaign   45211 non-null  int64 \n",
            " 13  pdays      45211 non-null  int64 \n",
            " 14  previous   45211 non-null  int64 \n",
            " 15  poutcome   45211 non-null  object\n",
            " 16  y          45211 non-null  object\n",
            "dtypes: int64(7), object(10)\n",
            "memory usage: 5.9+ MB\n"
          ],
          "name": "stdout"
        },
        {
          "output_type": "execute_result",
          "data": {
            "text/html": [
              "<div>\n",
              "<style scoped>\n",
              "    .dataframe tbody tr th:only-of-type {\n",
              "        vertical-align: middle;\n",
              "    }\n",
              "\n",
              "    .dataframe tbody tr th {\n",
              "        vertical-align: top;\n",
              "    }\n",
              "\n",
              "    .dataframe thead th {\n",
              "        text-align: right;\n",
              "    }\n",
              "</style>\n",
              "<table border=\"1\" class=\"dataframe\">\n",
              "  <thead>\n",
              "    <tr style=\"text-align: right;\">\n",
              "      <th></th>\n",
              "      <th>age</th>\n",
              "      <th>balance</th>\n",
              "      <th>day</th>\n",
              "      <th>duration</th>\n",
              "      <th>campaign</th>\n",
              "      <th>pdays</th>\n",
              "      <th>previous</th>\n",
              "    </tr>\n",
              "  </thead>\n",
              "  <tbody>\n",
              "    <tr>\n",
              "      <th>count</th>\n",
              "      <td>45211.000000</td>\n",
              "      <td>45211.000000</td>\n",
              "      <td>45211.000000</td>\n",
              "      <td>45211.000000</td>\n",
              "      <td>45211.000000</td>\n",
              "      <td>45211.000000</td>\n",
              "      <td>45211.000000</td>\n",
              "    </tr>\n",
              "    <tr>\n",
              "      <th>mean</th>\n",
              "      <td>40.936210</td>\n",
              "      <td>1362.272058</td>\n",
              "      <td>15.806419</td>\n",
              "      <td>258.163080</td>\n",
              "      <td>2.763841</td>\n",
              "      <td>40.197828</td>\n",
              "      <td>0.580323</td>\n",
              "    </tr>\n",
              "    <tr>\n",
              "      <th>std</th>\n",
              "      <td>10.618762</td>\n",
              "      <td>3044.765829</td>\n",
              "      <td>8.322476</td>\n",
              "      <td>257.527812</td>\n",
              "      <td>3.098021</td>\n",
              "      <td>100.128746</td>\n",
              "      <td>2.303441</td>\n",
              "    </tr>\n",
              "    <tr>\n",
              "      <th>min</th>\n",
              "      <td>18.000000</td>\n",
              "      <td>-8019.000000</td>\n",
              "      <td>1.000000</td>\n",
              "      <td>0.000000</td>\n",
              "      <td>1.000000</td>\n",
              "      <td>-1.000000</td>\n",
              "      <td>0.000000</td>\n",
              "    </tr>\n",
              "    <tr>\n",
              "      <th>25%</th>\n",
              "      <td>33.000000</td>\n",
              "      <td>72.000000</td>\n",
              "      <td>8.000000</td>\n",
              "      <td>103.000000</td>\n",
              "      <td>1.000000</td>\n",
              "      <td>-1.000000</td>\n",
              "      <td>0.000000</td>\n",
              "    </tr>\n",
              "    <tr>\n",
              "      <th>50%</th>\n",
              "      <td>39.000000</td>\n",
              "      <td>448.000000</td>\n",
              "      <td>16.000000</td>\n",
              "      <td>180.000000</td>\n",
              "      <td>2.000000</td>\n",
              "      <td>-1.000000</td>\n",
              "      <td>0.000000</td>\n",
              "    </tr>\n",
              "    <tr>\n",
              "      <th>75%</th>\n",
              "      <td>48.000000</td>\n",
              "      <td>1428.000000</td>\n",
              "      <td>21.000000</td>\n",
              "      <td>319.000000</td>\n",
              "      <td>3.000000</td>\n",
              "      <td>-1.000000</td>\n",
              "      <td>0.000000</td>\n",
              "    </tr>\n",
              "    <tr>\n",
              "      <th>max</th>\n",
              "      <td>95.000000</td>\n",
              "      <td>102127.000000</td>\n",
              "      <td>31.000000</td>\n",
              "      <td>4918.000000</td>\n",
              "      <td>63.000000</td>\n",
              "      <td>871.000000</td>\n",
              "      <td>275.000000</td>\n",
              "    </tr>\n",
              "  </tbody>\n",
              "</table>\n",
              "</div>"
            ],
            "text/plain": [
              "                age        balance  ...         pdays      previous\n",
              "count  45211.000000   45211.000000  ...  45211.000000  45211.000000\n",
              "mean      40.936210    1362.272058  ...     40.197828      0.580323\n",
              "std       10.618762    3044.765829  ...    100.128746      2.303441\n",
              "min       18.000000   -8019.000000  ...     -1.000000      0.000000\n",
              "25%       33.000000      72.000000  ...     -1.000000      0.000000\n",
              "50%       39.000000     448.000000  ...     -1.000000      0.000000\n",
              "75%       48.000000    1428.000000  ...     -1.000000      0.000000\n",
              "max       95.000000  102127.000000  ...    871.000000    275.000000\n",
              "\n",
              "[8 rows x 7 columns]"
            ]
          },
          "metadata": {
            "tags": []
          },
          "execution_count": 3
        }
      ]
    },
    {
      "cell_type": "markdown",
      "metadata": {
        "id": "Y9586xIUz-ji"
      },
      "source": [
        "### Exercise: Visualize the distributions of each numeric feature"
      ]
    },
    {
      "cell_type": "code",
      "metadata": {
        "id": "Ev8UvLP3jgDZ",
        "outputId": "0333d2a3-c28a-429a-d027-aa2f5a6c1b27",
        "colab": {
          "base_uri": "https://localhost:8080/",
          "height": 1000
        }
      },
      "source": [
        "### START CODE HERE ###\n",
        "# Use a list comprehension to extract the names of the numeric columns of the training df \n",
        "# (those with an integer dtype)\n",
        "numeric_columns = df_train.select_dtypes([np.number]).columns.values.tolist()\n",
        "# Loop through the numeric columns\n",
        "for col in numeric_columns:\n",
        "    # Generate a histogram of the current numeric feature column\n",
        "    plt.hist(df_train[col], color='mediumseagreen', histtype='step')\n",
        "    plt.title(f'{col} distribution')\n",
        "    plt.show()\n",
        "### END CODE HERE ###"
      ],
      "execution_count": 4,
      "outputs": [
        {
          "output_type": "display_data",
          "data": {
            "image/png": "[encoded data removed]",
            "text/plain": [
              "<Figure size 432x288 with 1 Axes>"
            ]
          },
          "metadata": {
            "tags": [],
            "needs_background": "light"
          }
        },
        {
          "output_type": "display_data",
          "data": {
            "image/png": "[encoded data removed]",
            "text/plain": [
              "<Figure size 432x288 with 1 Axes>"
            ]
          },
          "metadata": {
            "tags": [],
            "needs_background": "light"
          }
        },
        {
          "output_type": "display_data",
          "data": {
            "image/png": "[encoded data removed]",
            "text/plain": [
              "<Figure size 432x288 with 1 Axes>"
            ]
          },
          "metadata": {
            "tags": [],
            "needs_background": "light"
          }
        },
        {
          "output_type": "display_data",
          "data": {
            "image/png": "[encoded data removed]",
            "text/plain": [
              "<Figure size 432x288 with 1 Axes>"
            ]
          },
          "metadata": {
            "tags": [],
            "needs_background": "light"
          }
        },
        {
          "output_type": "display_data",
          "data": {
            "image/png": "[encoded data removed]",
            "text/plain": [
              "<Figure size 432x288 with 1 Axes>"
            ]
          },
          "metadata": {
            "tags": [],
            "needs_background": "light"
          }
        },
        {
          "output_type": "display_data",
          "data": {
            "image/png": "[encoded data removed]",
            "text/plain": [
              "<Figure size 432x288 with 1 Axes>"
            ]
          },
          "metadata": {
            "tags": [],
            "needs_background": "light"
          }
        },
        {
          "output_type": "display_data",
          "data": {
            "image/png": "[encoded data removed]",
            "text/plain": [
              "<Figure size 432x288 with 1 Axes>"
            ]
          },
          "metadata": {
            "tags": [],
            "needs_background": "light"
          }
        }
      ]
    },
    {
      "cell_type": "markdown",
      "metadata": {
        "id": "-wibVprU0wdX"
      },
      "source": [
        "### Exercise: Inspect the unique values of the non-numeric columns, and their counts"
      ]
    },
    {
      "cell_type": "code",
      "metadata": {
        "id": "2ko1zBgNabH7",
        "outputId": "71252e3e-5716-42fd-d724-c958050e00d8",
        "colab": {
          "base_uri": "https://localhost:8080/"
        }
      },
      "source": [
        "### START CODE HERE ###\n",
        "# Use a list comprehension to list the names of the non-numeric columns in the training df\n",
        "# (those with an object dtype)\n",
        "non_numeric_columns = df_train.select_dtypes(exclude=np.number).columns.values.tolist()\n",
        "# Loop through the non-numeric columns\n",
        "for col in non_numeric_columns:\n",
        "    # Print the counts of each unique value in the current column\n",
        "    print(df_train[col].value_counts(sort=False, normalize=False))\n",
        "### END CODE HERE ###"
      ],
      "execution_count": 5,
      "outputs": [
        {
          "output_type": "stream",
          "text": [
            "admin.           5171\n",
            "self-employed    1579\n",
            "services         4154\n",
            "management       9458\n",
            "housemaid        1240\n",
            "retired          2264\n",
            "student           938\n",
            "technician       7597\n",
            "blue-collar      9732\n",
            "entrepreneur     1487\n",
            "unemployed       1303\n",
            "unknown           288\n",
            "Name: job, dtype: int64\n",
            "single      12790\n",
            "married     27214\n",
            "divorced     5207\n",
            "Name: marital, dtype: int64\n",
            "tertiary     13301\n",
            "secondary    23202\n",
            "primary       6851\n",
            "unknown       1857\n",
            "Name: education, dtype: int64\n",
            "yes      815\n",
            "no     44396\n",
            "Name: default, dtype: int64\n",
            "yes    25130\n",
            "no     20081\n",
            "Name: housing, dtype: int64\n",
            "yes     7244\n",
            "no     37967\n",
            "Name: loan, dtype: int64\n",
            "cellular     29285\n",
            "unknown      13020\n",
            "telephone     2906\n",
            "Name: contact, dtype: int64\n",
            "may    13766\n",
            "dec      214\n",
            "aug     6247\n",
            "nov     3970\n",
            "jun     5341\n",
            "jan     1403\n",
            "jul     6895\n",
            "apr     2932\n",
            "mar      477\n",
            "oct      738\n",
            "feb     2649\n",
            "sep      579\n",
            "Name: month, dtype: int64\n",
            "success     1511\n",
            "other       1840\n",
            "failure     4901\n",
            "unknown    36959\n",
            "Name: poutcome, dtype: int64\n",
            "yes     5289\n",
            "no     39922\n",
            "Name: y, dtype: int64\n"
          ],
          "name": "stdout"
        }
      ]
    },
    {
      "cell_type": "markdown",
      "metadata": {
        "id": "-OHtVFr20_-l"
      },
      "source": [
        "### Exercise: Some columns are 'yes'/'no' binaries. Map them to integer binaries."
      ]
    },
    {
      "cell_type": "code",
      "metadata": {
        "id": "7ik4bT9n1LEO"
      },
      "source": [
        "### START CODE HERE ###\n",
        "# Make a list of the binary columns. There should be 4 of them. \n",
        "# Find their names in the output of the previous exercise.\n",
        "binary_columns = ['default', 'housing', 'loan', 'y']\n",
        "# Create a dictionary in which the keys map to the values\n",
        "# Remember, we want to replace 'no' and 'yes' with the appropriate integers\n",
        "binary_mapping = {'yes': 1.0, 'no': 0.0}\n",
        "# Map the binary columns\n",
        "for col in binary_columns:\n",
        "    # Apply the mapping to the current column with the map() method for Pandas Series\n",
        "    df_train[col] = df_train[col].map(binary_mapping)\n",
        "### END CODE HERE ###"
      ],
      "execution_count": 6,
      "outputs": []
    },
    {
      "cell_type": "markdown",
      "metadata": {
        "id": "-tZbFZRy1TdY"
      },
      "source": [
        "### Exericse: Map the months from strings to integers, with 1 corresponding to January, etc."
      ]
    },
    {
      "cell_type": "code",
      "metadata": {
        "id": "8jkMpHT-1f0d"
      },
      "source": [
        "### START CODE HERE ###\n",
        "# Create the mapping dictionary\n",
        "# Make sure the months' names are formatted properly\n",
        "month_mapping = {'jan':0, 'feb':1, 'mar':2, 'apr':3\n",
        "                 , 'may':4, 'jun':5, 'jul':6, 'aug':7\n",
        "                 , 'sep':8, 'oct':9, 'nov':10, 'dec':11}\n",
        "# Map the months\n",
        "df_train['month'] = df_train['month'].map(month_mapping)\n",
        "### END CODE HERE ###"
      ],
      "execution_count": 7,
      "outputs": []
    },
    {
      "cell_type": "markdown",
      "metadata": {
        "id": "qCRK5NZY1v7A"
      },
      "source": [
        "### Exercise: One-hot encode the remaining categorical features"
      ]
    },
    {
      "cell_type": "code",
      "metadata": {
        "id": "MwyM92cd14Wj"
      },
      "source": [
        "### START CODE HERE ###\n",
        "# List the categorical features. There should be 5 of them.\n",
        "categorical_columns = ['job', 'marital', 'education', 'contact', 'poutcome']\n",
        "# One-hot encode the categorical features with the get_dummies() function for Pandas DataFrames\n",
        "for i,j in enumerate(categorical_columns):\n",
        "  df_train[j] = pd.get_dummies(df_train[j], columns=categorical_columns[i])\n",
        "### E3ND CODE HERE ###"
      ],
      "execution_count": 8,
      "outputs": []
    },
    {
      "cell_type": "markdown",
      "metadata": {
        "id": "I0pc6xNN2Cul"
      },
      "source": [
        "### Inspect the first few rows of our preprocessed DataFrame"
      ]
    },
    {
      "cell_type": "code",
      "metadata": {
        "id": "Q7mDSqKzpc24",
        "outputId": "98378654-a443-4340-8776-1f00caa3e01b",
        "colab": {
          "base_uri": "https://localhost:8080/",
          "height": 204
        }
      },
      "source": [
        "df_train.head()"
      ],
      "execution_count": 9,
      "outputs": [
        {
          "output_type": "execute_result",
          "data": {
            "text/html": [
              "<div>\n",
              "<style scoped>\n",
              "    .dataframe tbody tr th:only-of-type {\n",
              "        vertical-align: middle;\n",
              "    }\n",
              "\n",
              "    .dataframe tbody tr th {\n",
              "        vertical-align: top;\n",
              "    }\n",
              "\n",
              "    .dataframe thead th {\n",
              "        text-align: right;\n",
              "    }\n",
              "</style>\n",
              "<table border=\"1\" class=\"dataframe\">\n",
              "  <thead>\n",
              "    <tr style=\"text-align: right;\">\n",
              "      <th></th>\n",
              "      <th>age</th>\n",
              "      <th>job</th>\n",
              "      <th>marital</th>\n",
              "      <th>education</th>\n",
              "      <th>default</th>\n",
              "      <th>balance</th>\n",
              "      <th>housing</th>\n",
              "      <th>loan</th>\n",
              "      <th>contact</th>\n",
              "      <th>day</th>\n",
              "      <th>month</th>\n",
              "      <th>duration</th>\n",
              "      <th>campaign</th>\n",
              "      <th>pdays</th>\n",
              "      <th>previous</th>\n",
              "      <th>poutcome</th>\n",
              "      <th>y</th>\n",
              "    </tr>\n",
              "  </thead>\n",
              "  <tbody>\n",
              "    <tr>\n",
              "      <th>0</th>\n",
              "      <td>58</td>\n",
              "      <td>0</td>\n",
              "      <td>0</td>\n",
              "      <td>0</td>\n",
              "      <td>0.0</td>\n",
              "      <td>2143</td>\n",
              "      <td>1.0</td>\n",
              "      <td>0.0</td>\n",
              "      <td>0</td>\n",
              "      <td>5</td>\n",
              "      <td>4</td>\n",
              "      <td>261</td>\n",
              "      <td>1</td>\n",
              "      <td>-1</td>\n",
              "      <td>0</td>\n",
              "      <td>0</td>\n",
              "      <td>0.0</td>\n",
              "    </tr>\n",
              "    <tr>\n",
              "      <th>1</th>\n",
              "      <td>44</td>\n",
              "      <td>0</td>\n",
              "      <td>0</td>\n",
              "      <td>0</td>\n",
              "      <td>0.0</td>\n",
              "      <td>29</td>\n",
              "      <td>1.0</td>\n",
              "      <td>0.0</td>\n",
              "      <td>0</td>\n",
              "      <td>5</td>\n",
              "      <td>4</td>\n",
              "      <td>151</td>\n",
              "      <td>1</td>\n",
              "      <td>-1</td>\n",
              "      <td>0</td>\n",
              "      <td>0</td>\n",
              "      <td>0.0</td>\n",
              "    </tr>\n",
              "    <tr>\n",
              "      <th>2</th>\n",
              "      <td>33</td>\n",
              "      <td>0</td>\n",
              "      <td>0</td>\n",
              "      <td>0</td>\n",
              "      <td>0.0</td>\n",
              "      <td>2</td>\n",
              "      <td>1.0</td>\n",
              "      <td>1.0</td>\n",
              "      <td>0</td>\n",
              "      <td>5</td>\n",
              "      <td>4</td>\n",
              "      <td>76</td>\n",
              "      <td>1</td>\n",
              "      <td>-1</td>\n",
              "      <td>0</td>\n",
              "      <td>0</td>\n",
              "      <td>0.0</td>\n",
              "    </tr>\n",
              "    <tr>\n",
              "      <th>3</th>\n",
              "      <td>47</td>\n",
              "      <td>0</td>\n",
              "      <td>0</td>\n",
              "      <td>0</td>\n",
              "      <td>0.0</td>\n",
              "      <td>1506</td>\n",
              "      <td>1.0</td>\n",
              "      <td>0.0</td>\n",
              "      <td>0</td>\n",
              "      <td>5</td>\n",
              "      <td>4</td>\n",
              "      <td>92</td>\n",
              "      <td>1</td>\n",
              "      <td>-1</td>\n",
              "      <td>0</td>\n",
              "      <td>0</td>\n",
              "      <td>0.0</td>\n",
              "    </tr>\n",
              "    <tr>\n",
              "      <th>4</th>\n",
              "      <td>33</td>\n",
              "      <td>0</td>\n",
              "      <td>0</td>\n",
              "      <td>0</td>\n",
              "      <td>0.0</td>\n",
              "      <td>1</td>\n",
              "      <td>0.0</td>\n",
              "      <td>0.0</td>\n",
              "      <td>0</td>\n",
              "      <td>5</td>\n",
              "      <td>4</td>\n",
              "      <td>198</td>\n",
              "      <td>1</td>\n",
              "      <td>-1</td>\n",
              "      <td>0</td>\n",
              "      <td>0</td>\n",
              "      <td>0.0</td>\n",
              "    </tr>\n",
              "  </tbody>\n",
              "</table>\n",
              "</div>"
            ],
            "text/plain": [
              "   age  job  marital  education  ...  pdays  previous  poutcome    y\n",
              "0   58    0        0          0  ...     -1         0         0  0.0\n",
              "1   44    0        0          0  ...     -1         0         0  0.0\n",
              "2   33    0        0          0  ...     -1         0         0  0.0\n",
              "3   47    0        0          0  ...     -1         0         0  0.0\n",
              "4   33    0        0          0  ...     -1         0         0  0.0\n",
              "\n",
              "[5 rows x 17 columns]"
            ]
          },
          "metadata": {
            "tags": []
          },
          "execution_count": 9
        }
      ]
    },
    {
      "cell_type": "markdown",
      "metadata": {
        "id": "Bq4c7TFQ2OR4"
      },
      "source": [
        "### Exercise: Extract the target values from the training DataFrame"
      ]
    },
    {
      "cell_type": "code",
      "metadata": {
        "id": "YrKoG2XamTx6"
      },
      "source": [
        "### START CODE HERE ###\n",
        "# Extract the target values from the training DataFrame\n",
        "y = df_train['y'] # (45211,)\n",
        "# Drop the target column from the training DataFrame\n",
        "del df_train['y'] # (45209, 16)\n",
        "### END CODE HERE ###"
      ],
      "execution_count": 10,
      "outputs": []
    },
    {
      "cell_type": "markdown",
      "metadata": {
        "id": "10g_mzUD2SpY"
      },
      "source": [
        "### Exercise: Inspect how balanced y is\n",
        "\n",
        "For a balanced binary target, approximately half of its entries will be 1"
      ]
    },
    {
      "cell_type": "code",
      "metadata": {
        "id": "439nSn-knDqq",
        "outputId": "0a57a3c9-725d-4cd6-e7a3-0be6c8676461",
        "colab": {
          "base_uri": "https://localhost:8080/"
        }
      },
      "source": [
        "### START CODE HERE ###\n",
        "# Compute the fraction of positive values in the target\n",
        "fraction = y.value_counts()[1] / y.value_counts()[0]\n",
        "print('proportion of positive values: %.3f ' % (fraction))\n",
        "### END CODE HERE ###"
      ],
      "execution_count": 11,
      "outputs": [
        {
          "output_type": "stream",
          "text": [
            "proportion of positive values: 0.132 \n"
          ],
          "name": "stdout"
        }
      ]
    },
    {
      "cell_type": "markdown",
      "metadata": {
        "id": "6Z6J4ulPAat8"
      },
      "source": [
        "### Print the current number of features"
      ]
    },
    {
      "cell_type": "code",
      "metadata": {
        "id": "2zIQNf8sn-ej",
        "outputId": "11354571-37c9-445e-d39c-dc7cc660174a",
        "colab": {
          "base_uri": "https://localhost:8080/"
        }
      },
      "source": [
        "print(f'The training df currently has {df_train.shape[1]} features')"
      ],
      "execution_count": 12,
      "outputs": [
        {
          "output_type": "stream",
          "text": [
            "The training df currently has 16 features\n"
          ],
          "name": "stdout"
        }
      ]
    },
    {
      "cell_type": "markdown",
      "metadata": {
        "id": "dkwNHtlLAwLa"
      },
      "source": [
        "### Exercise: Visually inspect the Pearson Correlations of each feature\n",
        "\n",
        "Pandas provides the `corr()` method for DataFrames for this purpose"
      ]
    },
    {
      "cell_type": "code",
      "metadata": {
        "id": "1fivN56tpc3C",
        "outputId": "34a88a81-3c52-4206-df7d-2cd673f197ff",
        "colab": {
          "base_uri": "https://localhost:8080/",
          "height": 635
        }
      },
      "source": [
        "plt.figure(figsize=(12,10))\n",
        "### START CODE HERE ###\n",
        "# Compute the Pearson Correlation of each feature in the training df\n",
        "cor = df_train.corr(method='pearson')  # computation of pairwise correlation of columns\n",
        "### END CODE HERE ###\n",
        "# Plot the correlations\n",
        "sns.heatmap(cor.abs())\n",
        "plt.show()\n",
        "# Some intersting correlations pop up that need further analysis (later)\n",
        "# we need to eliminate features that have very high absolute correlations"
      ],
      "execution_count": 13,
      "outputs": [
        {
          "output_type": "display_data",
          "data": {
            "image/png": "[encoded data removed]",
            "text/plain": [
              "<Figure size 864x720 with 2 Axes>"
            ]
          },
          "metadata": {
            "tags": [],
            "needs_background": "light"
          }
        }
      ]
    },
    {
      "cell_type": "markdown",
      "metadata": {
        "id": "JZKtNfIPE6RH"
      },
      "source": [
        "## Feature Selection"
      ]
    },
    {
      "cell_type": "markdown",
      "metadata": {
        "id": "S2nx55ZHBhVf"
      },
      "source": [
        "### Exercise: Drop feature columns which have a high absolute Pearson Correlation\n",
        "\n",
        "Let's choose to drop the higher-indexed of the two correlated columns, i.e. the one that appears farther to the right in the df"
      ]
    },
    {
      "cell_type": "code",
      "metadata": {
        "id": "Vf1nQfsUpc3F",
        "outputId": "b592db2c-1424-4580-900a-fa142c38a764",
        "colab": {
          "base_uri": "https://localhost:8080/"
        }
      },
      "source": [
        "### START CODE HERE ### \n",
        "# Initialize a list indicating whether to keep a column in the training df\n",
        "# For now, set all entries to True\n",
        "keep_columns = cor.columns.values.tolist()\n",
        "remove = []\n",
        "# Loop over all columns\n",
        "for i in range(len(cor)) :\n",
        "    # Loop over all columns to the right of the current one\n",
        "    for j in cor.abs().iloc[i][:] :\n",
        "        # If the absolute correlation between the current two columns is greater than or equal to 0.7 and less than 1.0 ...\n",
        "        if (j >= 0.7 and j < 1) : \n",
        "            # append column name to list 'remove'...\n",
        "            remove.append(keep_columns[i]) \n",
        "\n",
        "# Drop identified columns from 'keep_columns'\n",
        "for i in remove: \n",
        "  keep_columns.remove(i)\n",
        "\n",
        "# Make a new df with the columns we've decided to keep from the training df\n",
        "df_out = df_train[keep_columns]\n",
        "### END CODE HERE ###\n",
        "print('The following columns are present in the new df:')\n",
        "print(keep_columns)\n",
        "print(f'The old df had {df_train.shape[1]} features. The new df has {df_out.shape[1]} features.')"
      ],
      "execution_count": 14,
      "outputs": [
        {
          "output_type": "stream",
          "text": [
            "The following columns are present in the new df:\n",
            "['age', 'job', 'marital', 'education', 'default', 'balance', 'housing', 'loan', 'contact', 'day', 'month', 'duration', 'campaign', 'previous']\n",
            "The old df had 16 features. The new df has 14 features.\n"
          ],
          "name": "stdout"
        }
      ]
    },
    {
      "cell_type": "markdown",
      "metadata": {
        "id": "53PikdK0FMIm"
      },
      "source": [
        "### Feature Selection on p-value (statistical significance to Y value)"
      ]
    },
    {
      "cell_type": "code",
      "metadata": {
        "id": "h4f9H6mOpc3H"
      },
      "source": [
        "selected_columns = keep_columns[0:]\n",
        "import statsmodels.api as sm\n",
        "def backwardElimination(x, y, sl, columns):\n",
        "    numVars = len(x[0])\n",
        "    for i in range(0, numVars):\n",
        "        regressor_OLS = sm.OLS(y, x).fit()\n",
        "        #maxVar = max(regressor_OLS.pvalues).astype(float)\n",
        "        maxVar = max(regressor_OLS.pvalues)\n",
        "        if maxVar > sl:\n",
        "            for j in range(0, numVars - i):\n",
        "                if (regressor_OLS.pvalues[j].astype(float) == maxVar):\n",
        "                    x = np.delete(x, j, 1)\n",
        "                    columns = np.delete(columns, j)\n",
        "                    \n",
        "    regressor_OLS.summary()\n",
        "    return x, columns\n",
        "SL = 0.01\n",
        "# Note that we're passing in df_out, not df_train\n",
        "data_modeled, selected_columns = backwardElimination(df_out.values, y, SL, selected_columns)"
      ],
      "execution_count": 15,
      "outputs": []
    },
    {
      "cell_type": "code",
      "metadata": {
        "id": "QRjpdwWfpc3L",
        "outputId": "22f3b21c-03a3-4ab4-d55b-f6c8e62ac354",
        "colab": {
          "base_uri": "https://localhost:8080/"
        }
      },
      "source": [
        "print('The following columns remain based on p-value selection:')\n",
        "print(selected_columns)\n",
        "# Make a reduced df\n",
        "data_red = pd.DataFrame(data = data_modeled, columns = selected_columns)\n",
        "print(f'After selection by Pearson Correlation, we had {df_out.shape[1]} features.')\n",
        "print(f'After selection by p-value, we have {data_red.shape[1]} features.')"
      ],
      "execution_count": 16,
      "outputs": [
        {
          "output_type": "stream",
          "text": [
            "The following columns remain based on p-value selection:\n",
            "['age' 'job' 'education' 'balance' 'housing' 'loan' 'contact' 'day'\n",
            " 'duration' 'campaign' 'previous']\n",
            "After selection by Pearson Correlation, we had 14 features.\n",
            "After selection by p-value, we have 11 features.\n"
          ],
          "name": "stdout"
        }
      ]
    },
    {
      "cell_type": "markdown",
      "metadata": {
        "id": "r8RUeRBHI1ai"
      },
      "source": [
        "### Visualize the distributions of the selected features\n",
        "\n",
        "Ignore the deprecation warnings"
      ]
    },
    {
      "cell_type": "code",
      "metadata": {
        "id": "I6XzPfPcpc3O",
        "outputId": "1e9ad1ce-de94-4dd9-a09e-4dcd3bfceb77",
        "colab": {
          "base_uri": "https://localhost:8080/",
          "height": 1000
        }
      },
      "source": [
        "# Visualize the selected features\n",
        "fig = plt.figure(figsize = (20, 25))\n",
        "j = 0\n",
        "for i in data_red.columns:\n",
        "    plt.subplot(7, 4, j+1)\n",
        "    j += 1\n",
        "    sns.distplot(data_red[i][y==0], color='g', label = 'no')\n",
        "    sns.distplot(data_red[i][y==1], color='r', label = 'yes')\n",
        "    plt.legend(loc='best')\n",
        "fig.suptitle('Subscription Feature Analysis')\n",
        "fig.tight_layout()\n",
        "fig.subplots_adjust(top=0.95)\n",
        "plt.show()"
      ],
      "execution_count": 17,
      "outputs": [
        {
          "output_type": "stream",
          "text": [
            "/usr/local/lib/python3.6/dist-packages/seaborn/distributions.py:2551: FutureWarning: `distplot` is a deprecated function and will be removed in a future version. Please adapt your code to use either `displot` (a figure-level function with similar flexibility) or `histplot` (an axes-level function for histograms).\n",
            "  warnings.warn(msg, FutureWarning)\n",
            "/usr/local/lib/python3.6/dist-packages/seaborn/distributions.py:2551: FutureWarning: `distplot` is a deprecated function and will be removed in a future version. Please adapt your code to use either `displot` (a figure-level function with similar flexibility) or `histplot` (an axes-level function for histograms).\n",
            "  warnings.warn(msg, FutureWarning)\n",
            "/usr/local/lib/python3.6/dist-packages/seaborn/distributions.py:2551: FutureWarning: `distplot` is a deprecated function and will be removed in a future version. Please adapt your code to use either `displot` (a figure-level function with similar flexibility) or `histplot` (an axes-level function for histograms).\n",
            "  warnings.warn(msg, FutureWarning)\n",
            "/usr/local/lib/python3.6/dist-packages/seaborn/distributions.py:2551: FutureWarning: `distplot` is a deprecated function and will be removed in a future version. Please adapt your code to use either `displot` (a figure-level function with similar flexibility) or `histplot` (an axes-level function for histograms).\n",
            "  warnings.warn(msg, FutureWarning)\n",
            "/usr/local/lib/python3.6/dist-packages/seaborn/distributions.py:2551: FutureWarning: `distplot` is a deprecated function and will be removed in a future version. Please adapt your code to use either `displot` (a figure-level function with similar flexibility) or `histplot` (an axes-level function for histograms).\n",
            "  warnings.warn(msg, FutureWarning)\n",
            "/usr/local/lib/python3.6/dist-packages/seaborn/distributions.py:2551: FutureWarning: `distplot` is a deprecated function and will be removed in a future version. Please adapt your code to use either `displot` (a figure-level function with similar flexibility) or `histplot` (an axes-level function for histograms).\n",
            "  warnings.warn(msg, FutureWarning)\n",
            "/usr/local/lib/python3.6/dist-packages/seaborn/distributions.py:2551: FutureWarning: `distplot` is a deprecated function and will be removed in a future version. Please adapt your code to use either `displot` (a figure-level function with similar flexibility) or `histplot` (an axes-level function for histograms).\n",
            "  warnings.warn(msg, FutureWarning)\n",
            "/usr/local/lib/python3.6/dist-packages/seaborn/distributions.py:2551: FutureWarning: `distplot` is a deprecated function and will be removed in a future version. Please adapt your code to use either `displot` (a figure-level function with similar flexibility) or `histplot` (an axes-level function for histograms).\n",
            "  warnings.warn(msg, FutureWarning)\n",
            "/usr/local/lib/python3.6/dist-packages/seaborn/distributions.py:2551: FutureWarning: `distplot` is a deprecated function and will be removed in a future version. Please adapt your code to use either `displot` (a figure-level function with similar flexibility) or `histplot` (an axes-level function for histograms).\n",
            "  warnings.warn(msg, FutureWarning)\n",
            "/usr/local/lib/python3.6/dist-packages/seaborn/distributions.py:2551: FutureWarning: `distplot` is a deprecated function and will be removed in a future version. Please adapt your code to use either `displot` (a figure-level function with similar flexibility) or `histplot` (an axes-level function for histograms).\n",
            "  warnings.warn(msg, FutureWarning)\n",
            "/usr/local/lib/python3.6/dist-packages/seaborn/distributions.py:2551: FutureWarning: `distplot` is a deprecated function and will be removed in a future version. Please adapt your code to use either `displot` (a figure-level function with similar flexibility) or `histplot` (an axes-level function for histograms).\n",
            "  warnings.warn(msg, FutureWarning)\n",
            "/usr/local/lib/python3.6/dist-packages/seaborn/distributions.py:2551: FutureWarning: `distplot` is a deprecated function and will be removed in a future version. Please adapt your code to use either `displot` (a figure-level function with similar flexibility) or `histplot` (an axes-level function for histograms).\n",
            "  warnings.warn(msg, FutureWarning)\n",
            "/usr/local/lib/python3.6/dist-packages/seaborn/distributions.py:2551: FutureWarning: `distplot` is a deprecated function and will be removed in a future version. Please adapt your code to use either `displot` (a figure-level function with similar flexibility) or `histplot` (an axes-level function for histograms).\n",
            "  warnings.warn(msg, FutureWarning)\n",
            "/usr/local/lib/python3.6/dist-packages/seaborn/distributions.py:2551: FutureWarning: `distplot` is a deprecated function and will be removed in a future version. Please adapt your code to use either `displot` (a figure-level function with similar flexibility) or `histplot` (an axes-level function for histograms).\n",
            "  warnings.warn(msg, FutureWarning)\n",
            "/usr/local/lib/python3.6/dist-packages/seaborn/distributions.py:2551: FutureWarning: `distplot` is a deprecated function and will be removed in a future version. Please adapt your code to use either `displot` (a figure-level function with similar flexibility) or `histplot` (an axes-level function for histograms).\n",
            "  warnings.warn(msg, FutureWarning)\n",
            "/usr/local/lib/python3.6/dist-packages/seaborn/distributions.py:2551: FutureWarning: `distplot` is a deprecated function and will be removed in a future version. Please adapt your code to use either `displot` (a figure-level function with similar flexibility) or `histplot` (an axes-level function for histograms).\n",
            "  warnings.warn(msg, FutureWarning)\n",
            "/usr/local/lib/python3.6/dist-packages/seaborn/distributions.py:2551: FutureWarning: `distplot` is a deprecated function and will be removed in a future version. Please adapt your code to use either `displot` (a figure-level function with similar flexibility) or `histplot` (an axes-level function for histograms).\n",
            "  warnings.warn(msg, FutureWarning)\n",
            "/usr/local/lib/python3.6/dist-packages/seaborn/distributions.py:2551: FutureWarning: `distplot` is a deprecated function and will be removed in a future version. Please adapt your code to use either `displot` (a figure-level function with similar flexibility) or `histplot` (an axes-level function for histograms).\n",
            "  warnings.warn(msg, FutureWarning)\n",
            "/usr/local/lib/python3.6/dist-packages/seaborn/distributions.py:2551: FutureWarning: `distplot` is a deprecated function and will be removed in a future version. Please adapt your code to use either `displot` (a figure-level function with similar flexibility) or `histplot` (an axes-level function for histograms).\n",
            "  warnings.warn(msg, FutureWarning)\n",
            "/usr/local/lib/python3.6/dist-packages/seaborn/distributions.py:2551: FutureWarning: `distplot` is a deprecated function and will be removed in a future version. Please adapt your code to use either `displot` (a figure-level function with similar flexibility) or `histplot` (an axes-level function for histograms).\n",
            "  warnings.warn(msg, FutureWarning)\n",
            "/usr/local/lib/python3.6/dist-packages/seaborn/distributions.py:2551: FutureWarning: `distplot` is a deprecated function and will be removed in a future version. Please adapt your code to use either `displot` (a figure-level function with similar flexibility) or `histplot` (an axes-level function for histograms).\n",
            "  warnings.warn(msg, FutureWarning)\n",
            "/usr/local/lib/python3.6/dist-packages/seaborn/distributions.py:2551: FutureWarning: `distplot` is a deprecated function and will be removed in a future version. Please adapt your code to use either `displot` (a figure-level function with similar flexibility) or `histplot` (an axes-level function for histograms).\n",
            "  warnings.warn(msg, FutureWarning)\n"
          ],
          "name": "stderr"
        },
        {
          "output_type": "display_data",
          "data": {
            "image/png": "[encoded data removed]",
            "text/plain": [
              "<Figure size 1440x1800 with 11 Axes>"
            ]
          },
          "metadata": {
            "tags": [],
            "needs_background": "light"
          }
        }
      ]
    },
    {
      "cell_type": "markdown",
      "metadata": {
        "id": "zUESDMGAJTOD"
      },
      "source": [
        "### Exercise: Cross-validated LASSO feature importance"
      ]
    },
    {
      "cell_type": "code",
      "metadata": {
        "id": "CZCAm2cny8IU",
        "outputId": "b1ecc284-a9ac-4c57-d9aa-612f8691df41",
        "colab": {
          "base_uri": "https://localhost:8080/"
        }
      },
      "source": [
        "### START CODE HERE ###\n",
        "\n",
        "# Instantiate the cross-validated LASSO regressor\n",
        "reg = Lasso(alpha=1.0, fit_intercept=True, normalize=False, precompute=False\n",
        "            , copy_X=True, max_iter=1000, tol=0.0001, warm_start=False\n",
        "            , positive=False, random_state=None, selection='cyclic'\n",
        "            )\n",
        "\n",
        "# Train the regressor on the reduced df\n",
        "reg.fit(data_red, y)\n",
        "### END CODE HERE ###\n",
        "print(\"Best alpha using built-in LassoCV: %f\" % reg.alpha)\n",
        "print(\"Best score using built-in LassoCV: %f\" %reg.score(data_red, y))\n",
        "coef = pd.Series(reg.coef_, index = data_red.columns)\n",
        "print(f\"Lasso picked {sum(coef != 0)} features and eliminated the other {sum(coef == 0)} features\")"
      ],
      "execution_count": 18,
      "outputs": [
        {
          "output_type": "stream",
          "text": [
            "Best alpha using built-in LassoCV: 1.000000\n",
            "Best score using built-in LassoCV: 0.157467\n",
            "Lasso picked 2 features and eliminated the other 9 features\n"
          ],
          "name": "stdout"
        }
      ]
    },
    {
      "cell_type": "markdown",
      "metadata": {
        "id": "N-nSBxmEKPh5"
      },
      "source": [
        "### Visualize the LASSO feature importances"
      ]
    },
    {
      "cell_type": "code",
      "metadata": {
        "id": "h80oTFv8pc3T",
        "outputId": "ee8b6431-c80d-459a-d5d5-642968c5c67e",
        "colab": {
          "base_uri": "https://localhost:8080/",
          "height": 624
        }
      },
      "source": [
        "imp_coef = coef.sort_values()\n",
        "import matplotlib\n",
        "matplotlib.rcParams['figure.figsize'] = (8.0, 10.0)\n",
        "imp_coef.plot(kind = \"barh\")\n",
        "plt.title(\"Feature importance using Lasso Model\")\n",
        "#pdays is the only other feature here"
      ],
      "execution_count": 19,
      "outputs": [
        {
          "output_type": "execute_result",
          "data": {
            "text/plain": [
              "Text(0.5, 1.0, 'Feature importance using Lasso Model')"
            ]
          },
          "metadata": {
            "tags": []
          },
          "execution_count": 19
        },
        {
          "output_type": "display_data",
          "data": {
            "image/png": "[encoded data removed]",
            "text/plain": [
              "<Figure size 576x720 with 1 Axes>"
            ]
          },
          "metadata": {
            "tags": [],
            "needs_background": "light"
          }
        }
      ]
    },
    {
      "cell_type": "markdown",
      "metadata": {
        "id": "Quusm-TAKgNj"
      },
      "source": [
        "### Print summary statistics for the reduced df"
      ]
    },
    {
      "cell_type": "code",
      "metadata": {
        "id": "U-e5nMiApc3W",
        "outputId": "75d602f0-7f9c-4027-8ed7-ca29328f3f32",
        "colab": {
          "base_uri": "https://localhost:8080/",
          "height": 317
        }
      },
      "source": [
        "data_red.describe()"
      ],
      "execution_count": 20,
      "outputs": [
        {
          "output_type": "execute_result",
          "data": {
            "text/html": [
              "<div>\n",
              "<style scoped>\n",
              "    .dataframe tbody tr th:only-of-type {\n",
              "        vertical-align: middle;\n",
              "    }\n",
              "\n",
              "    .dataframe tbody tr th {\n",
              "        vertical-align: top;\n",
              "    }\n",
              "\n",
              "    .dataframe thead th {\n",
              "        text-align: right;\n",
              "    }\n",
              "</style>\n",
              "<table border=\"1\" class=\"dataframe\">\n",
              "  <thead>\n",
              "    <tr style=\"text-align: right;\">\n",
              "      <th></th>\n",
              "      <th>age</th>\n",
              "      <th>job</th>\n",
              "      <th>education</th>\n",
              "      <th>balance</th>\n",
              "      <th>housing</th>\n",
              "      <th>loan</th>\n",
              "      <th>contact</th>\n",
              "      <th>day</th>\n",
              "      <th>duration</th>\n",
              "      <th>campaign</th>\n",
              "      <th>previous</th>\n",
              "    </tr>\n",
              "  </thead>\n",
              "  <tbody>\n",
              "    <tr>\n",
              "      <th>count</th>\n",
              "      <td>45211.000000</td>\n",
              "      <td>45211.000000</td>\n",
              "      <td>45211.000000</td>\n",
              "      <td>45211.000000</td>\n",
              "      <td>45211.000000</td>\n",
              "      <td>45211.000000</td>\n",
              "      <td>45211.000000</td>\n",
              "      <td>45211.000000</td>\n",
              "      <td>45211.000000</td>\n",
              "      <td>45211.000000</td>\n",
              "      <td>45211.000000</td>\n",
              "    </tr>\n",
              "    <tr>\n",
              "      <th>mean</th>\n",
              "      <td>40.936210</td>\n",
              "      <td>0.114375</td>\n",
              "      <td>0.151534</td>\n",
              "      <td>1362.272058</td>\n",
              "      <td>0.555838</td>\n",
              "      <td>0.160226</td>\n",
              "      <td>0.647741</td>\n",
              "      <td>15.806419</td>\n",
              "      <td>258.163080</td>\n",
              "      <td>2.763841</td>\n",
              "      <td>0.580323</td>\n",
              "    </tr>\n",
              "    <tr>\n",
              "      <th>std</th>\n",
              "      <td>10.618762</td>\n",
              "      <td>0.318269</td>\n",
              "      <td>0.358572</td>\n",
              "      <td>3044.765829</td>\n",
              "      <td>0.496878</td>\n",
              "      <td>0.366820</td>\n",
              "      <td>0.477680</td>\n",
              "      <td>8.322476</td>\n",
              "      <td>257.527812</td>\n",
              "      <td>3.098021</td>\n",
              "      <td>2.303441</td>\n",
              "    </tr>\n",
              "    <tr>\n",
              "      <th>min</th>\n",
              "      <td>18.000000</td>\n",
              "      <td>0.000000</td>\n",
              "      <td>0.000000</td>\n",
              "      <td>-8019.000000</td>\n",
              "      <td>0.000000</td>\n",
              "      <td>0.000000</td>\n",
              "      <td>0.000000</td>\n",
              "      <td>1.000000</td>\n",
              "      <td>0.000000</td>\n",
              "      <td>1.000000</td>\n",
              "      <td>0.000000</td>\n",
              "    </tr>\n",
              "    <tr>\n",
              "      <th>25%</th>\n",
              "      <td>33.000000</td>\n",
              "      <td>0.000000</td>\n",
              "      <td>0.000000</td>\n",
              "      <td>72.000000</td>\n",
              "      <td>0.000000</td>\n",
              "      <td>0.000000</td>\n",
              "      <td>0.000000</td>\n",
              "      <td>8.000000</td>\n",
              "      <td>103.000000</td>\n",
              "      <td>1.000000</td>\n",
              "      <td>0.000000</td>\n",
              "    </tr>\n",
              "    <tr>\n",
              "      <th>50%</th>\n",
              "      <td>39.000000</td>\n",
              "      <td>0.000000</td>\n",
              "      <td>0.000000</td>\n",
              "      <td>448.000000</td>\n",
              "      <td>1.000000</td>\n",
              "      <td>0.000000</td>\n",
              "      <td>1.000000</td>\n",
              "      <td>16.000000</td>\n",
              "      <td>180.000000</td>\n",
              "      <td>2.000000</td>\n",
              "      <td>0.000000</td>\n",
              "    </tr>\n",
              "    <tr>\n",
              "      <th>75%</th>\n",
              "      <td>48.000000</td>\n",
              "      <td>0.000000</td>\n",
              "      <td>0.000000</td>\n",
              "      <td>1428.000000</td>\n",
              "      <td>1.000000</td>\n",
              "      <td>0.000000</td>\n",
              "      <td>1.000000</td>\n",
              "      <td>21.000000</td>\n",
              "      <td>319.000000</td>\n",
              "      <td>3.000000</td>\n",
              "      <td>0.000000</td>\n",
              "    </tr>\n",
              "    <tr>\n",
              "      <th>max</th>\n",
              "      <td>95.000000</td>\n",
              "      <td>1.000000</td>\n",
              "      <td>1.000000</td>\n",
              "      <td>102127.000000</td>\n",
              "      <td>1.000000</td>\n",
              "      <td>1.000000</td>\n",
              "      <td>1.000000</td>\n",
              "      <td>31.000000</td>\n",
              "      <td>4918.000000</td>\n",
              "      <td>63.000000</td>\n",
              "      <td>275.000000</td>\n",
              "    </tr>\n",
              "  </tbody>\n",
              "</table>\n",
              "</div>"
            ],
            "text/plain": [
              "                age           job  ...      campaign      previous\n",
              "count  45211.000000  45211.000000  ...  45211.000000  45211.000000\n",
              "mean      40.936210      0.114375  ...      2.763841      0.580323\n",
              "std       10.618762      0.318269  ...      3.098021      2.303441\n",
              "min       18.000000      0.000000  ...      1.000000      0.000000\n",
              "25%       33.000000      0.000000  ...      1.000000      0.000000\n",
              "50%       39.000000      0.000000  ...      2.000000      0.000000\n",
              "75%       48.000000      0.000000  ...      3.000000      0.000000\n",
              "max       95.000000      1.000000  ...     63.000000    275.000000\n",
              "\n",
              "[8 rows x 11 columns]"
            ]
          },
          "metadata": {
            "tags": []
          },
          "execution_count": 20
        }
      ]
    },
    {
      "cell_type": "markdown",
      "metadata": {
        "id": "ziw5vUYGLb-_"
      },
      "source": [
        "## Random Forest Classification"
      ]
    },
    {
      "cell_type": "markdown",
      "metadata": {
        "id": "z0Q8IPz4MCl4"
      },
      "source": [
        "### First, import some convenience functions and perform a 70-30 train-test split split on the (reduced) training data"
      ]
    },
    {
      "cell_type": "code",
      "metadata": {
        "id": "OJyPKyeCpc3Y"
      },
      "source": [
        "from sklearn.model_selection import cross_val_score\n",
        "from numpy import mean\n",
        "x_train, x_test, y_train, y_test = train_test_split(data_red.values, y.values, test_size = 0.3)"
      ],
      "execution_count": 21,
      "outputs": []
    },
    {
      "cell_type": "markdown",
      "metadata": {
        "id": "qT1-v-OlLgAu"
      },
      "source": [
        "### Exercise: Default Random Forest Classifier, without balancing"
      ]
    },
    {
      "cell_type": "code",
      "metadata": {
        "id": "CRqFTUhe_gE3",
        "outputId": "8e6ba463-e60d-49c1-f273-ebe73bbba3b2",
        "colab": {
          "base_uri": "https://localhost:8080/"
        }
      },
      "source": [
        "### START CODE HERE ###\n",
        "# Instantiate the classifier\n",
        "# Set the max depth to 10 and the random state to 0\n",
        "clf = RandomForestClassifier(max_depth=10, random_state=0)\n",
        "# Train the classifier\n",
        "clf.fit(x_train, y_train)\n",
        "# Use the classifier to make predictions from the test features\n",
        "prediction = clf.predict(x_test)\n",
        "# Compute the confusion matrix between the true and predicted test targets\n",
        "cm = confusion_matrix(y_test, prediction)\n",
        "# Compute the model's accuracy by summing the diagonals of the confusion matrix\n",
        "# (i.e. taking its trace) and dividing by the number of test samples\n",
        "accuracy = np.sum(cm.trace()) / prediction.shape[0]\n",
        "### END CODE HERE ###\n",
        "print(f\"Accuracy = {accuracy}\")\n",
        "recall_scores = cross_val_score(clf, x_test, y_test, scoring='recall', cv=5)\n",
        "f1_scores = cross_val_score(clf, x_test, y_test, scoring='f1', cv=5)\n",
        "print(f'Mean Recall = {mean(recall_scores):.3f}')\n",
        "print(f'Mean F1 Score = {mean(f1_scores):.3f}')\n",
        "print(cm)"
      ],
      "execution_count": 22,
      "outputs": [
        {
          "output_type": "stream",
          "text": [
            "Accuracy = 0.8953848422294308\n",
            "Mean Recall = 0.295\n",
            "Mean F1 Score = 0.395\n",
            "[[11647   311]\n",
            " [ 1108   498]]\n"
          ],
          "name": "stdout"
        }
      ]
    },
    {
      "cell_type": "markdown",
      "metadata": {
        "id": "le3pcONnUt7c"
      },
      "source": [
        "### Exercise: Random Forest Classifier with weight balancing\n",
        "\n",
        "The target class is highly imbalanced; recall from earlier that only about 11.7% of loan applicants in this dataset are approved. One way around this is to add weight balancing to the classifier.\n",
        "\n",
        "This exercise is otherwise a repeat of the previous one."
      ]
    },
    {
      "cell_type": "code",
      "metadata": {
        "id": "_CfvJokoBxRx",
        "outputId": "e466eba1-0820-4d54-e40e-6d0f4a0f56e3",
        "colab": {
          "base_uri": "https://localhost:8080/"
        }
      },
      "source": [
        "### START CODE HERE ###\n",
        "# Instantiate the classifier\n",
        "# Set the max depth to 10, the random state to 0, and the class_weight to 'balanced'\n",
        "clf = RandomForestClassifier(max_depth=10, random_state=0, class_weight='balanced')\n",
        "# Train the classifier\n",
        "clf.fit(x_train, y_train)\n",
        "# Use the classifier to make predictions from the test features\n",
        "prediction = clf.predict(x_test)\n",
        "# Compute the confusion matrix between the true and predicted test targets\n",
        "cm = confusion_matrix(y_test, prediction)\n",
        "# Compute the model's accuracy by summing the diagonals of the confusion matrix\n",
        "# (i.e. taking its trace) and dividing by the number of test samples\n",
        "accuracy = np.sum(cm.trace()) / prediction.shape[0]\n",
        "### END CODE HERE ###\n",
        "print(f\"Accuracy = {accuracy}\")\n",
        "recall_scores = cross_val_score(clf, x_test, y_test, scoring='recall', cv=5)\n",
        "f1_scores = cross_val_score(clf, x_test, y_test, scoring='f1', cv=5)\n",
        "print(f'Mean Recall = {mean(recall_scores):.3f}')\n",
        "print(f'Mean F1 Score = {mean(f1_scores):.3f}')\n",
        "print(cm)"
      ],
      "execution_count": 23,
      "outputs": [
        {
          "output_type": "stream",
          "text": [
            "Accuracy = 0.8248304335004424\n",
            "Mean Recall = 0.719\n",
            "Mean F1 Score = 0.536\n",
            "[[9906 2052]\n",
            " [ 324 1282]]\n"
          ],
          "name": "stdout"
        }
      ]
    },
    {
      "cell_type": "markdown",
      "metadata": {
        "id": "oEUqiMSIDb6x"
      },
      "source": [
        "### Optimal Parameter Search: Random Forest Regressor\n"
      ]
    },
    {
      "cell_type": "code",
      "metadata": {
        "id": "bFrnf2bdCylZ"
      },
      "source": [
        "from sklearn.model_selection import GridSearchCV\n",
        "param_grid = [\n",
        "              {'n_estimators': [3, 10, 20, 30, 40], 'max_features': [2, 4, 6, 8, 10]},            # 5 x 5 = 25 combinations\n",
        "              {'bootstrap': [False], 'n_estimators': [3, 10], 'max_features': [2, 3, 4]}  # 2 x 3 = 6 combinations\n",
        "]                                                                                         # 25 + 6 = 31 combinations\n",
        "                                                                          # 3-fold CV so 3 * 31 = 93 training rounds\n",
        "\n",
        "grid_search = GridSearchCV(clf, param_grid=param_grid, cv=3, scoring= 'neg_mean_squared_error')"
      ],
      "execution_count": 24,
      "outputs": []
    },
    {
      "cell_type": "code",
      "metadata": {
        "id": "IIv_N60jDmxy",
        "outputId": "ed33ae5e-7195-40d4-ee6e-dc8269f3eb02",
        "colab": {
          "base_uri": "https://localhost:8080/"
        }
      },
      "source": [
        "grid_search.fit(x_train, y_train)"
      ],
      "execution_count": 25,
      "outputs": [
        {
          "output_type": "execute_result",
          "data": {
            "text/plain": [
              "GridSearchCV(cv=3, error_score=nan,\n",
              "             estimator=RandomForestClassifier(bootstrap=True, ccp_alpha=0.0,\n",
              "                                              class_weight='balanced',\n",
              "                                              criterion='gini', max_depth=10,\n",
              "                                              max_features='auto',\n",
              "                                              max_leaf_nodes=None,\n",
              "                                              max_samples=None,\n",
              "                                              min_impurity_decrease=0.0,\n",
              "                                              min_impurity_split=None,\n",
              "                                              min_samples_leaf=1,\n",
              "                                              min_samples_split=2,\n",
              "                                              min_weight_fraction_leaf=0.0,\n",
              "                                              n_estimators=100, n_jobs=None,\n",
              "                                              oob_score=False, random_state=0,\n",
              "                                              verbose=0, warm_start=False),\n",
              "             iid='deprecated', n_jobs=None,\n",
              "             param_grid=[{'max_features': [2, 4, 6, 8, 10],\n",
              "                          'n_estimators': [3, 10, 20, 30, 40]},\n",
              "                         {'bootstrap': [False], 'max_features': [2, 3, 4],\n",
              "                          'n_estimators': [3, 10]}],\n",
              "             pre_dispatch='2*n_jobs', refit=True, return_train_score=False,\n",
              "             scoring='neg_mean_squared_error', verbose=0)"
            ]
          },
          "metadata": {
            "tags": []
          },
          "execution_count": 25
        }
      ]
    },
    {
      "cell_type": "code",
      "metadata": {
        "id": "-HOgurhZEJ_z",
        "outputId": "821a27b7-5b77-46d4-92ab-12e2a34aead3",
        "colab": {
          "base_uri": "https://localhost:8080/"
        }
      },
      "source": [
        "# Make predictions \n",
        "prediction = grid_search.best_estimator_.predict(x_test)\n",
        "\n",
        "# Compute the confusion matrix between the true and predicted test targets\n",
        "cm = confusion_matrix(y_test, prediction)\n",
        "\n",
        "# Compute the model's accuracy by summing the diagonals of the confusion matrix\n",
        "# (i.e. taking its trace) and dividing by the number of test samples\n",
        "accuracy = np.sum(cm.trace()) / prediction.shape[0]\n",
        "\n",
        "print(f\"Accuracy = {accuracy}\")\n",
        "precision_scores = cross_val_score(clf, x_test, y_test, scoring='precision', cv=5)\n",
        "recall_scores = cross_val_score(clf, x_test, y_test, scoring='recall', cv=5)\n",
        "f1_scores = cross_val_score(clf, x_test, y_test, scoring='f1', cv=5)\n",
        "print(f'Mean Precision = {mean(precision_scores):.3f}')\n",
        "print(f'Mean Recall = {mean(recall_scores):.3f}')\n",
        "print(f'Mean F1 Score = {mean(f1_scores):.3f}')\n",
        "print(cm)"
      ],
      "execution_count": 26,
      "outputs": [
        {
          "output_type": "stream",
          "text": [
            "Accuracy = 0.8320554408728988\n",
            "Mean Precision = 0.427\n",
            "Mean Recall = 0.719\n",
            "Mean F1 Score = 0.536\n",
            "[[10067  1891]\n",
            " [  387  1219]]\n"
          ],
          "name": "stdout"
        }
      ]
    },
    {
      "cell_type": "markdown",
      "metadata": {
        "id": "bPdIrybdnLGe"
      },
      "source": [
        "### Neural Network (Softmax Binary Classifier) "
      ]
    },
    {
      "cell_type": "code",
      "metadata": {
        "id": "RDrzUh85wh5B",
        "outputId": "530b6def-4733-444d-a8e9-8654b774dc40",
        "colab": {
          "base_uri": "https://localhost:8080/",
          "height": 592
        }
      },
      "source": [
        "N = 100                           # number of points per class\n",
        "D = 2                             # dimensionality \n",
        "K = 3                             # number of classes \n",
        "X = np.zeros((N*K, D))            # data matrix\n",
        "y = np.zeros(N*K, dtype='uint8')  # class labels\n",
        "\n",
        "for j in range(K):\n",
        "  ix = range(N*j, N*(j+1))\n",
        "  r = np.linspace(0.0, 1, N) # radius\n",
        "  t = np.linspace(j*4, (j+1)*4, N)\n",
        "  X[ix] = np.c_[r*np.sin(t), r*np.cos(t)]\n",
        "  y[ix] = j\n",
        "\n",
        "# visualize data\n",
        "plt.scatter(X[:, 0], X[:, 1], c=y, s=40, cmap=plt.cm.Spectral)\n",
        "plt.show()"
      ],
      "execution_count": 27,
      "outputs": [
        {
          "output_type": "display_data",
          "data": {
            "image/png": "[encoded data removed]",
            "text/plain": [
              "<Figure size 576x720 with 1 Axes>"
            ]
          },
          "metadata": {
            "tags": [],
            "needs_background": "light"
          }
        }
      ]
    },
    {
      "cell_type": "code",
      "metadata": {
        "id": "gcGChUVfmcmG"
      },
      "source": [
        "h = 100\n",
        "W = 0.01 * np.random.randn(D, h)\n",
        "b = np.zeros((1, h))\n",
        "\n",
        "W2 = np.random.randn(h, K) * 0.01\n",
        "b2 = np.zeros((1, K))\n",
        "num_examples = X.shape[0]\n",
        "\n",
        "step_size = 1e-1\n",
        "reg = 1e-4"
      ],
      "execution_count": 28,
      "outputs": []
    },
    {
      "cell_type": "code",
      "metadata": {
        "id": "_Dm2m0lqwwff",
        "outputId": "015255da-9a41-48ee-e438-46e22e49f0d5",
        "colab": {
          "base_uri": "https://localhost:8080/"
        }
      },
      "source": [
        "for i in range(10000):\n",
        "\n",
        "  # evaluate class scores, [N x K]\n",
        "  hidden_layer = np.maximum(0, np.dot(X, W) + b) # ReLU activation\n",
        "  hidden_layer -= np.mean(hidden_layer, axis=0)\n",
        "  scores = np.dot(hidden_layer, W2) + b2\n",
        "  scores -= np.max(scores)\n",
        "\n",
        "  # compute the class probabilities\n",
        "  exp_scores = np.exp(scores)\n",
        "  probs = exp_scores / np.sum(exp_scores, axis=1, keepdims=True) # [N x K]\n",
        "\n",
        "  # compute the loss: average cross-entropy loss and regularization\n",
        "  correct_logprobs = - np.log(probs[range(num_examples), y])\n",
        "  data_loss = np.sum(correct_logprobs) / num_examples\n",
        "  reg_loss = 0.5*reg*np.sum(W*W) + 0.5*reg*np.sum(W2*W2)\n",
        "  loss = data_loss + reg_loss \n",
        "  if i % 1000 == 0:\n",
        "    print('iteration %d: loss %f' % (i, loss))\n",
        "\n",
        "  # compute the gradient on the scores  \n",
        "  dscores = probs\n",
        "  dscores[range(num_examples), y] -= 1\n",
        "  dscores /= num_examples\n",
        "\n",
        "  dW2 = hidden_layer.T.dot(dscores)\n",
        "  db2 = np.sum(dscores, axis=0, keepdims=True)\n",
        "  # backprop into hidden layer\n",
        "  dhidden = dscores.dot(W2.T)\n",
        "  # backprop the ReLU non-linearity\n",
        "  dhidden[hidden_layer <= 0] = 0\n",
        "  # finally into W,b  \n",
        "  dW = X.T.dot(dhidden)\n",
        "  db = np.sum(dhidden, axis=0, keepdims=True)\n",
        "\n",
        "  # add regularization to the contribution\n",
        "  dW2 += reg * W2\n",
        "  dW += reg * W\n",
        "\n",
        "  # perform parameter update\n",
        "  W += -step_size * dW\n",
        "  b += -step_size * db \n",
        "  W2 += -step_size * dW2\n",
        "  b2 += -step_size * db2"
      ],
      "execution_count": 29,
      "outputs": [
        {
          "output_type": "stream",
          "text": [
            "iteration 0: loss 1.098694\n",
            "iteration 1000: loss 0.639551\n",
            "iteration 2000: loss 0.397847\n",
            "iteration 3000: loss 0.247883\n",
            "iteration 4000: loss 0.202825\n",
            "iteration 5000: loss 0.178894\n",
            "iteration 6000: loss 0.166093\n",
            "iteration 7000: loss 0.167697\n",
            "iteration 8000: loss 0.160041\n",
            "iteration 9000: loss 0.158416\n"
          ],
          "name": "stdout"
        }
      ]
    },
    {
      "cell_type": "code",
      "metadata": {
        "id": "27gkaPb5dkZb",
        "outputId": "6ab32a53-1357-4123-a01c-52fe474d2776",
        "colab": {
          "base_uri": "https://localhost:8080/",
          "height": 609
        }
      },
      "source": [
        "Xpredict = np.dot(X, W) + b\n",
        "plt.scatter(Xpredict[:, 0], Xpredict[:, 1], c=y, s=40, cmap=plt.cm.Spectral)\n",
        "print('--> Predicted Output')\n",
        "plt.show()"
      ],
      "execution_count": 30,
      "outputs": [
        {
          "output_type": "stream",
          "text": [
            "--> Predicted Output\n"
          ],
          "name": "stdout"
        },
        {
          "output_type": "display_data",
          "data": {
            "image/png": "[encoded data removed]",
            "text/plain": [
              "<Figure size 576x720 with 1 Axes>"
            ]
          },
          "metadata": {
            "tags": [],
            "needs_background": "light"
          }
        }
      ]
    },
    {
      "cell_type": "markdown",
      "metadata": {
        "id": "ehccRvuumXw8"
      },
      "source": [
        "Now that we've tested our neural network, let's pass the reduced dataset from above into our model. Remember, our model will produce a vector containing scores representing applicants' likilihood of loan approval.  "
      ]
    },
    {
      "cell_type": "code",
      "metadata": {
        "id": "76RMerEwX5gk"
      },
      "source": [
        "N = x_train.shape[0]                           # number of points per class\n",
        "D = x_train.shape[1]                             # dimensionality \n",
        "K = 1                             # number of classes \n",
        "X = x_train           \n",
        " # data matrix\n",
        "y = y_train  # class labels"
      ],
      "execution_count": 31,
      "outputs": []
    },
    {
      "cell_type": "code",
      "metadata": {
        "id": "dymeAg_neUl0"
      },
      "source": [
        "h = 100\n",
        "W = 0.01 * np.random.randn(D, h)\n",
        "b = np.zeros((1, h))\n",
        "W2 = np.random.randn(h, K) * 0.01\n",
        "b2 = np.zeros((1, K))\n",
        "num_examples = X.shape[0]\n",
        "\n",
        "step_size = 1e-1\n",
        "reg = 1e-3"
      ],
      "execution_count": 32,
      "outputs": []
    },
    {
      "cell_type": "code",
      "metadata": {
        "id": "GGgHAAkzhmYQ",
        "outputId": "a8a201c6-6ee2-42a3-8b6b-eb9e7bc11afa",
        "colab": {
          "base_uri": "https://localhost:8080/"
        }
      },
      "source": [
        "for i in range(10000):\n",
        "\n",
        "  # evaluate class scores, [N x K]\n",
        "  hidden_layer = np.maximum(0, np.dot(X, W) + b) # ReLU activation\n",
        "  hidden_layer -= np.mean(hidden_layer, axis=0)\n",
        "  scores = np.dot(hidden_layer, W2) + b2\n",
        "  scores -= np.max(scores)\n",
        "\n",
        "  # compute the class probabilities\n",
        "  exp_scores = np.exp(scores)\n",
        "  probs = exp_scores / np.sum(exp_scores, axis=1, keepdims=True) # [N x K]\n",
        "\n",
        "  # compute the loss: average cross-entropy loss and regularization\n",
        "  correct_logprobs = - np.log(probs[range(num_examples), 0])\n",
        "  data_loss = np.sum(correct_logprobs) / num_examples\n",
        "  reg_loss = 0.5*reg*np.sum(W*W) + 0.5*reg*np.sum(W2*W2)\n",
        "  loss = data_loss + reg_loss \n",
        "  if i % 1000 == 0:\n",
        "    print('iteration %d: loss %f' % (i, loss))\n",
        "\n",
        "  # compute the gradient on the scores  \n",
        "  dscores = probs\n",
        "  dscores[range(num_examples), 0] -= 1\n",
        "  dscores /= num_examples\n",
        "\n",
        "  dW2 = hidden_layer.T.dot(dscores)\n",
        "  db2 = np.sum(dscores, axis=0, keepdims=True)\n",
        "  # backprop into hidden layer\n",
        "  dhidden = dscores.dot(W2.T)\n",
        "  # backprop the ReLU non-linearity\n",
        "  dhidden[hidden_layer <= 0] = 0\n",
        "  # finally into W,b  \n",
        "  dW = X.T.dot(dhidden)\n",
        "  db = np.sum(dhidden, axis=0, keepdims=True)\n",
        "\n",
        "  # add regularization to the contribution\n",
        "  dW2 += reg * W2\n",
        "  dW += reg * W\n",
        "\n",
        "  # perform parameter update\n",
        "  W += -step_size * dW\n",
        "  b += -step_size * db \n",
        "  W2 += -step_size * dW2\n",
        "  b2 += -step_size * db2"
      ],
      "execution_count": 33,
      "outputs": [
        {
          "output_type": "stream",
          "text": [
            "iteration 0: loss 0.000059\n",
            "iteration 1000: loss 0.000049\n",
            "iteration 2000: loss 0.000040\n",
            "iteration 3000: loss 0.000033\n",
            "iteration 4000: loss 0.000027\n",
            "iteration 5000: loss 0.000022\n",
            "iteration 6000: loss 0.000018\n",
            "iteration 7000: loss 0.000015\n",
            "iteration 8000: loss 0.000012\n",
            "iteration 9000: loss 0.000010\n"
          ],
          "name": "stdout"
        }
      ]
    },
    {
      "cell_type": "code",
      "metadata": {
        "id": "leDMCwegipRm",
        "outputId": "654d4bcb-42f7-4da9-a449-693a77e5437e",
        "colab": {
          "base_uri": "https://localhost:8080/"
        }
      },
      "source": [
        "# evaluate training set accuracy\n",
        "hidden_layer = np.maximum(0, np.dot(X, W) + b)\n",
        "scores = np.dot(hidden_layer, W2) + b2\n",
        "predicted_class = np.argmax(scores, axis=1)\n",
        "print('Training accuracy: %.2f' % (np.mean(predicted_class == y)))"
      ],
      "execution_count": 42,
      "outputs": [
        {
          "output_type": "stream",
          "text": [
            "Training accuracy: 0.88\n"
          ],
          "name": "stdout"
        }
      ]
    },
    {
      "cell_type": "code",
      "metadata": {
        "id": "R77of_NKp6SL",
        "outputId": "e35a0fc7-6f1b-49b4-b4fe-68fc8f1a93fb",
        "colab": {
          "base_uri": "https://localhost:8080/"
        }
      },
      "source": [
        "from sklearn.metrics import precision_recall_fscore_support as metrics\n",
        "metrics(y, predicted_class)"
      ],
      "execution_count": 44,
      "outputs": [
        {
          "output_type": "stream",
          "text": [
            "/usr/local/lib/python3.6/dist-packages/sklearn/metrics/_classification.py:1272: UndefinedMetricWarning: Precision and F-score are ill-defined and being set to 0.0 in labels with no predicted samples. Use `zero_division` parameter to control this behavior.\n",
            "  _warn_prf(average, modifier, msg_start, len(result))\n"
          ],
          "name": "stderr"
        },
        {
          "output_type": "execute_result",
          "data": {
            "text/plain": [
              "(array([0.88362246, 0.        ]),\n",
              " array([1., 0.]),\n",
              " array([0.9382161, 0.       ]),\n",
              " array([27964,  3683]))"
            ]
          },
          "metadata": {
            "tags": []
          },
          "execution_count": 44
        }
      ]
    }
  ]
}